{
 "metadata": {
  "kernelspec": {
   "display_name": "Python 2",
   "language": "python",
   "name": "python2"
  },
  "language_info": {
   "codemirror_mode": {
    "name": "ipython",
    "version": 2
   },
   "file_extension": ".py",
   "mimetype": "text/x-python",
   "name": "python",
   "nbconvert_exporter": "python",
   "pygments_lexer": "ipython2",
   "version": "2.7.6"
  },
  "name": "",
  "signature": "sha256:f5e9f49faad56c9a476b1bc64b0d62829f47807a2c8a7f227aecda011b6720ba"
 },
 "nbformat": 3,
 "nbformat_minor": 0,
 "worksheets": [
  {
   "cells": [
    {
     "cell_type": "markdown",
     "metadata": {},
     "source": [
      "# IPYTHON Workbook"
     ]
    },
    {
     "cell_type": "markdown",
     "metadata": {},
     "source": [
      "- ###Basic data manipulation\n",
      "    - Basic math\n",
      "    - Arrays\n",
      "    - Random numbers\n",
      "    - Strings\n",
      "    - Asking for help\n",
      "\n",
      "- ###Advanced data manipulation\n",
      "    - Functions\n",
      "    - Calculus\n",
      "    - LaTeX\n",
      "    - Inputs & Outputs\n",
      "    - Fake data sets\n",
      "\n",
      "- ###Logic\n",
      "    - If\n",
      "    - For loops\n",
      "    - Exceptions\n",
      "\n",
      "- ###Plotting\n",
      "    - Histograms\n",
      "    - Line plots\n",
      "    - Scatter plots\n",
      "    - Two dimentional histograms\n",
      "    - Subplots\n",
      "\n",
      "- ###Astrophysics\n",
      "    - Angular momentum\n",
      "    - Simulations\n",
      "    - Briggs figures (Briggs 1990)\n",
      "    - Star formation history\n",
      "    - Pynbody\n",
      "    "
     ]
    },
    {
     "cell_type": "code",
     "collapsed": false,
     "input": [
      "import math\n",
      "%pylab\n",
      "%matplotlib inline\n",
      "from matplotlib import rcParams\n",
      "rcParams[\"savefig.dpi\"] = 100  # This makes all the plots a little bigger.\n",
      "import numpy as np"
     ],
     "language": "python",
     "metadata": {},
     "outputs": [
      {
       "output_type": "stream",
       "stream": "stdout",
       "text": [
        "Using matplotlib backend: Qt4Agg\n",
        "Populating the interactive namespace from numpy and matplotlib\n"
       ]
      }
     ],
     "prompt_number": 1
    },
    {
     "cell_type": "markdown",
     "metadata": {},
     "source": [
      "##  Basic data manipulation\n",
      "\n",
      "### Basic math\n",
      "\n",
      "The easiest things you can get a computer to do are simple calulations, use ipython to solve the following:\n",
      "\n",
      "1. $(828235 \\times 9123) + 6235$\n",
      "2. $72456/(9442-274)$\n",
      "3. $2^{214}/54^{-0.5}$\n",
      "\n",
      "Note: in python if you do a calculation with only interger numbers it will assume you want an interger solution. This means it will round at every step. To stop this form happening you should write the numbers as decimals, i.e. 910 = 910.0"
     ]
    },
    {
     "cell_type": "code",
     "collapsed": false,
     "input": [
      "print (828235*9123)+6235\n",
      "print 72456.0/(9442-274)\n",
      "print (2**214)/(54**-0.5)\n"
     ],
     "language": "python",
     "metadata": {},
     "outputs": [
      {
       "output_type": "stream",
       "stream": "stdout",
       "text": [
        "7555994140\n",
        "7.90314136126\n",
        "1.93471033673e+65\n"
       ]
      }
     ],
     "prompt_number": 11
    },
    {
     "cell_type": "markdown",
     "metadata": {},
     "source": [
      "### Arrays\n",
      "\n",
      "The most useful tool for data manipulation is correct use of arrays. In order to get the most out of our arrays we will use the package numpy (for more information: http://www.numpy.org/). To import numpy you can use the following command:"
     ]
    },
    {
     "cell_type": "code",
     "collapsed": true,
     "input": [
      "import numpy as np"
     ],
     "language": "python",
     "metadata": {},
     "outputs": [],
     "prompt_number": 12
    },
    {
     "cell_type": "markdown",
     "metadata": {},
     "source": [
      "To initialise an array in python you have two options:\n",
      "1. array = []\n",
      "2. array = np.array([])\n",
      "\n",
      "Although the top one seems the better option for speed you may find that this isn't the case. The top choice will create a python list, and these lists dont support some linear operations. For example if you have two lists and you want to multiply them it will take more code than to multiply two np.array's. Thus, I would always recomend using the second option even though it takes a few more seconds to initalize.\n",
      "\n",
      "Define the following two arrays:\n",
      "A = [1,6,2,5,8,9]\n",
      "B = [6,2,4,7,9,2]\n",
      "\n",
      "Using A and B, solve the following problems:\n",
      "1. $A \\times B$\n",
      "2. $A/B$\n",
      "3. $A^2 \\times B$"
     ]
    },
    {
     "cell_type": "code",
     "collapsed": false,
     "input": [
      "A = np.array([1,6,2,5,8,9])\n",
      "B = np.array([6,2,4,7,9,2])\n",
      "print A*B\n",
      "print A/B\n",
      "print A**2*B\n"
     ],
     "language": "python",
     "metadata": {},
     "outputs": [
      {
       "output_type": "stream",
       "stream": "stdout",
       "text": [
        "[ 6 12  8 35 72 18]\n",
        "[0 3 0 0 0 4]\n",
        "[  6  72  16 175 576 162]\n"
       ]
      }
     ],
     "prompt_number": 13
    },
    {
     "cell_type": "markdown",
     "metadata": {},
     "source": [
      "### Random numbers"
     ]
    },
    {
     "cell_type": "markdown",
     "metadata": {},
     "source": [
      "Random numbers come in handy alot! Therefore, I will give you a breif introduction to them, however, I will say random numbers is a huge area in computing. For the sake of brevity we will only look at the easiest way of generating sudo-random numbers. Firstly, we import the package random"
     ]
    },
    {
     "cell_type": "code",
     "collapsed": true,
     "input": [
      "import random"
     ],
     "language": "python",
     "metadata": {},
     "outputs": [],
     "prompt_number": 14
    },
    {
     "cell_type": "markdown",
     "metadata": {},
     "source": [
      "Now for the first example I will generate a list of random numbers,"
     ]
    },
    {
     "cell_type": "code",
     "collapsed": false,
     "input": [
      "samp = random.sample(range(-200, 200), 10)"
     ],
     "language": "python",
     "metadata": {},
     "outputs": [],
     "prompt_number": 15
    },
    {
     "cell_type": "markdown",
     "metadata": {},
     "source": [
      "now I will randomly shuffle this list,"
     ]
    },
    {
     "cell_type": "code",
     "collapsed": true,
     "input": [
      "shuffle(samp)"
     ],
     "language": "python",
     "metadata": {},
     "outputs": [],
     "prompt_number": 16
    },
    {
     "cell_type": "markdown",
     "metadata": {},
     "source": [
      "and finially I will pick a number at random from this list,"
     ]
    },
    {
     "cell_type": "code",
     "collapsed": false,
     "input": [
      "random.choice(samp)"
     ],
     "language": "python",
     "metadata": {},
     "outputs": [
      {
       "metadata": {},
       "output_type": "pyout",
       "prompt_number": 17,
       "text": [
        "-170"
       ]
      }
     ],
     "prompt_number": 17
    },
    {
     "cell_type": "markdown",
     "metadata": {},
     "source": [
      "Try this:\n",
      "\n",
      "Generate a 10 random numbers from a GAUSSIAN distribution"
     ]
    },
    {
     "cell_type": "code",
     "collapsed": false,
     "input": [
      "for n in range(1,10):\n",
      "    print random.gauss(10, 2);"
     ],
     "language": "python",
     "metadata": {},
     "outputs": [
      {
       "output_type": "stream",
       "stream": "stdout",
       "text": [
        "12.2137051047\n",
        "8.50005067822\n",
        "9.91498464133\n",
        "12.8930506519\n",
        "9.83859342585\n",
        "7.70794794236\n",
        "9.87609450682\n",
        "10.2173012693\n",
        "11.1724899536\n"
       ]
      }
     ],
     "prompt_number": 18
    },
    {
     "cell_type": "markdown",
     "metadata": {},
     "source": [
      "### Strings\n",
      "\n",
      "A different type of variable, called a string, can be used to save strings of characters. For example"
     ]
    },
    {
     "cell_type": "code",
     "collapsed": false,
     "input": [
      "welcome = str('welcome!!!')\n",
      "welcome"
     ],
     "language": "python",
     "metadata": {},
     "outputs": [
      {
       "metadata": {},
       "output_type": "pyout",
       "prompt_number": 19,
       "text": [
        "'welcome!!!'"
       ]
      }
     ],
     "prompt_number": 19
    },
    {
     "cell_type": "markdown",
     "metadata": {},
     "source": [
      "Here we have saved 'welcome to sparta' as a string called welcome. So when we tell it to return welcome it returns the string we saved to it. This can be used for a number of things that will be come clear later on."
     ]
    },
    {
     "cell_type": "markdown",
     "metadata": {},
     "source": [
      "### Asking for help\n",
      "\n",
      "Sometimes you just completely forget how a command works and what information it needs to work. To find out quickly you can either look online, or just type in something like this"
     ]
    },
    {
     "cell_type": "code",
     "collapsed": true,
     "input": [
      "random.choice?"
     ],
     "language": "python",
     "metadata": {},
     "outputs": [],
     "prompt_number": 20
    },
    {
     "cell_type": "markdown",
     "metadata": {},
     "source": [
      "This should give you the basic idea of how the code works, but might not be so easy to understand."
     ]
    },
    {
     "cell_type": "markdown",
     "metadata": {},
     "source": [
      "## Advanced data manipulation\n",
      "\n",
      "### Functions\n",
      "\n",
      "For a numer of processes in python it is useful to define functions that can be called instead of writing the function out in full every time. For example:\n",
      "\n",
      "$f = \\sin(x)\\cos(x)\\Big|_{x=1}$"
     ]
    },
    {
     "cell_type": "code",
     "collapsed": false,
     "input": [
      "def f(x):\n",
      "    return sin(x)*cos(x)\n",
      "\n",
      "f(1)"
     ],
     "language": "python",
     "metadata": {},
     "outputs": [
      {
       "metadata": {},
       "output_type": "pyout",
       "prompt_number": 21,
       "text": [
        "0.45464871341284091"
       ]
      }
     ],
     "prompt_number": 21
    },
    {
     "cell_type": "markdown",
     "metadata": {},
     "source": [
      "Try it for yourself:\n",
      "\n",
      "1. $f(x) = \\sin(x)\\tan(x)\\Big|_{x=0.5}$\n",
      "2. $f(x) = \\log_{10}(x)\\cos(x)\\Big|_{x=1.7}$\n",
      "3. $f(x,y) = \\sin(x)\\cosh(y)\\Big|_{x=1, y=0.5}$"
     ]
    },
    {
     "cell_type": "code",
     "collapsed": false,
     "input": [
      "def f(x):\n",
      "    return sin(x)*tan(x)\n",
      "print f(0.5)\n",
      "def f(x):\n",
      "    return log10(x)*cos(x)\n",
      "print f(1.7)\n",
      "def f(x, y):\n",
      "    return sin(x)*cosh(y)\n",
      "print f(1, 0.5)"
     ],
     "language": "python",
     "metadata": {},
     "outputs": [
      {
       "output_type": "stream",
       "stream": "stdout",
       "text": [
        " 0.261911365434\n",
        "-0.0296920747359\n",
        "0.948864531437\n"
       ]
      }
     ],
     "prompt_number": 34
    },
    {
     "cell_type": "markdown",
     "metadata": {},
     "source": [
      "### Calculus\n",
      "\n",
      "Another use of python is numerical calculus, this isn't the same as analitical calculus that you learn at school. Here python will try to axproximate the value of an integral or derivative based on a given numerical recipe (for more information http://en.wikipedia.org/wiki/Numerical_integration, http://en.wikipedia.org/wiki/Numerical_differentiation)\n",
      "\n",
      "Firstly, lets try to solve the differential equation:\n",
      "\n",
      "$\\frac{dy}{dx} = \\frac{d}{dx} (x^3 + x^2)\\Big|_{x=1}$"
     ]
    },
    {
     "cell_type": "code",
     "collapsed": false,
     "input": [
      "from scipy.misc import derivative\n",
      "\n",
      "def f(x):\n",
      "    return x**3 + x**2\n",
      "\n",
      "derivative(f, 1.0, dx=1e-6)"
     ],
     "language": "python",
     "metadata": {},
     "outputs": [
      {
       "metadata": {},
       "output_type": "pyout",
       "prompt_number": 28,
       "text": [
        "4.9999999999217337"
       ]
      }
     ],
     "prompt_number": 28
    },
    {
     "cell_type": "markdown",
     "metadata": {},
     "source": [
      "Now lets try to solve the integral\n",
      "\n",
      "$y = \\int_{0}^{1} 3x^2 + 2x \\; dx$"
     ]
    },
    {
     "cell_type": "code",
     "collapsed": true,
     "input": [
      "from scipy.integrate import quad\n",
      "\n",
      "def f(x):\n",
      "    return 3*x**2 + 2*x\n",
      "\n",
      "print quad(f, 0, 1)\n",
      "\n",
      "#problem 1\n",
      "def f(x):\n",
      "    return x**2\n",
      "print 'problem 1 ', quad(f, 1, 10)\n",
      "\n",
      "#problem 2\n",
      "def f(x):\n",
      "    return 5 * x**3 + 6 * x\n",
      "print 'problem 2 ', quad(f, 2, 15)\n",
      "\n",
      "#problem 3\n",
      "def f(x):\n",
      "    return 2 * x**2 + 3 * x + 4\n",
      "print 'problem 3 ', quad(f, 10, 10)\n"
     ],
     "language": "python",
     "metadata": {},
     "outputs": [
      {
       "output_type": "stream",
       "stream": "stdout",
       "text": [
        "(1.9999999999999998, 2.2204460492503128e-14)\n",
        "problem 1  (333.0, 3.697042672001771e-12)\n",
        "problem 2  (63924.25000000001, 7.097017418189466e-10)\n",
        "problem 3  (0.0, 0.0)\n"
       ]
      }
     ],
     "prompt_number": 35
    },
    {
     "cell_type": "markdown",
     "metadata": {
      "collapsed": false
     },
     "source": [
      "Try to solve the following integrals:\n",
      "\n",
      "1. $\\int_{x=1}^{10} x^2$\n",
      "2. $\\int_{x=2}^{15} 5x^3+6x$\n",
      "3. $\\int_{x=-10}^{10} 2x^2+3x+4$"
     ]
    },
    {
     "cell_type": "markdown",
     "metadata": {},
     "source": [
      "### LaTeX\n",
      "\n",
      "This is a huge subject on type setting documents, however, for the perposes of these projects all you will need to know is how to type set equations using LaTeX. For this i would use the wikipedia pages: \n",
      "\n",
      "http://en.wikibooks.org/wiki/LaTeX/Mathematics\n",
      "http://en.wikibooks.org/wiki/LaTeX/Advanced_Mathematics\n",
      "\n",
      "However, i have written all the equations in this document using LaTeX so this should help you find useful examples."
     ]
    },
    {
     "cell_type": "markdown",
     "metadata": {},
     "source": [
      "### Inputs and outputs\n",
      "\n",
      "There are a vast number of ways to read in data and write data in python, but we will just be using one very simple method. Although its very simple its also very powerful and can be used for many different applications. We will be using the numpy command genfromtxt. Below i will input some velocities from a file named testdata.txt to an array called velocites and then play around with them. I sort them, then find the maximum, minimum, mean, standard diviation, and median."
     ]
    },
    {
     "cell_type": "code",
     "collapsed": false,
     "input": [
      "velocities = genfromtxt('testdata.txt')\n",
      "velocities = sort(velocities)"
     ],
     "language": "python",
     "metadata": {},
     "outputs": [],
     "prompt_number": 78
    },
    {
     "cell_type": "code",
     "collapsed": false,
     "input": [
      "from scipy import stats\n",
      "max(velocities), min(velocities), mean(velocities), std(velocities), median(velocities)"
     ],
     "language": "python",
     "metadata": {},
     "outputs": [
      {
       "metadata": {},
       "output_type": "pyout",
       "prompt_number": 95,
       "text": [
        "(3.3588414549648875,\n",
        " -3.6098202720123496,\n",
        " 0.052285122310088313,\n",
        " 0.98559720109511151,\n",
        " 0.0170960684341076)"
       ]
      }
     ],
     "prompt_number": 95
    },
    {
     "cell_type": "markdown",
     "metadata": {},
     "source": [
      "Now I will save the sorted data to a text file for use later."
     ]
    },
    {
     "cell_type": "code",
     "collapsed": true,
     "input": [
      "savetxt('sorteddata.txt', velocities)"
     ],
     "language": "python",
     "metadata": {},
     "outputs": [],
     "prompt_number": 96
    },
    {
     "cell_type": "markdown",
     "metadata": {},
     "source": [
      "### Fake data sets\n",
      "\n",
      "Here we will quickly look at how to generate more fake data for testing code with. Firstly, lets generate some integers. Range generates a list of integers between the two values you spesifiy,"
     ]
    },
    {
     "cell_type": "code",
     "collapsed": false,
     "input": [
      "range(1,10)"
     ],
     "language": "python",
     "metadata": {},
     "outputs": [
      {
       "metadata": {},
       "output_type": "pyout",
       "prompt_number": 101,
       "text": [
        "[1, 2, 3, 4, 5, 6, 7, 8, 9]"
       ]
      }
     ],
     "prompt_number": 101
    },
    {
     "cell_type": "markdown",
     "metadata": {},
     "source": [
      "however, integers arnt very useful. Lets try to make a list of floats instead!"
     ]
    },
    {
     "cell_type": "code",
     "collapsed": false,
     "input": [
      "linspace(1,10,19)"
     ],
     "language": "python",
     "metadata": {},
     "outputs": [
      {
       "metadata": {},
       "output_type": "pyout",
       "prompt_number": 103,
       "text": [
        "array([  1. ,   1.5,   2. ,   2.5,   3. ,   3.5,   4. ,   4.5,   5. ,\n",
        "         5.5,   6. ,   6.5,   7. ,   7.5,   8. ,   8.5,   9. ,   9.5,  10. ])"
       ]
      }
     ],
     "prompt_number": 103
    },
    {
     "cell_type": "markdown",
     "metadata": {},
     "source": [
      "Although these commands seem very easy and you might think they are pointless, infact they can be incredibly powerful in a number of situations. Lets try something more useful, say we have a function\n",
      "\n",
      "$f(x) = \\frac{\\sin(x)\\log_{10}(x)}{\\cosh(x)}$,\n",
      "\n",
      "we can use linspace to quickly evulate this function within the range $1 < x < 10$."
     ]
    },
    {
     "cell_type": "code",
     "collapsed": false,
     "input": [
      "def f(x):\n",
      "    return (sin(x)*log10(x))/cosh(x)\n",
      "\n",
      "dat = linspace(1,10, 19)\n",
      "f(dat)"
     ],
     "language": "python",
     "metadata": {},
     "outputs": [
      {
       "metadata": {},
       "output_type": "pyout",
       "prompt_number": 105,
       "text": [
        "array([  0.00000000e+00,   7.46681815e-02,   7.27569279e-02,\n",
        "         3.88363940e-02,   6.68788397e-03,  -1.15158368e-02,\n",
        "        -1.66850966e-02,  -1.41852135e-02,  -9.03193329e-03,\n",
        "        -4.26942567e-03,  -1.07789125e-03,   5.25823397e-04,\n",
        "         1.01258588e-03,   9.07951259e-04,   5.99457912e-04,\n",
        "         3.01999556e-04,   9.70645189e-05,  -1.09997794e-05,\n",
        "        -4.93970403e-05])"
       ]
      }
     ],
     "prompt_number": 105
    },
    {
     "cell_type": "markdown",
     "metadata": {},
     "source": [
      "Ok, now you can have a good at this. For the evaluate the functions $f$ within the given range using an appropreate interval.\n",
      "\n",
      "1. $f(x) = \\frac{\\cos(x)\\log_{10}(x)}{\\sinh(x)}$; for $1 < x < 10$\n",
      "2. $f(x) = \\frac{\\arccos(x)}{\\log(x)}$; for $0.1 < x < 0.5$\n",
      "3. $f(x,y) = \\tanh(x)\\log_{10}(y)$; for $1 < x < 5$ and $10 < y < 20$"
     ]
    },
    {
     "cell_type": "code",
     "collapsed": false,
     "input": [
      "dat = linspace(1, 10, 19)\n",
      "def f(x):\n",
      "    return (cos(x)*log10(x))/sinh(x)\n",
      "print 'problem 1 ', f(dat)\n",
      "\n",
      "dat = linspace(0.1, 0.5, 19)\n",
      "def f(x):\n",
      "    return (arccos(x))/log(x)\n",
      "print 'problem 2 ', f(dat)\n",
      "\n",
      "dat = linspace(1, 5, 19)\n",
      "daty = linspace(10, 20, 19)\n",
      "def f(x, y):\n",
      "    return tanh(x)*log10(y)\n",
      "print 'problem 3 ', f(dat, daty)"
     ],
     "language": "python",
     "metadata": {},
     "outputs": [
      {
       "output_type": "stream",
       "stream": "stdout",
       "text": [
        "problem 1  [  0.00000000e+00   5.84996153e-03  -3.45402542e-02  -5.26936070e-02\n",
        "  -4.71503653e-02  -3.07989867e-02  -1.44204422e-02  -3.05967202e-03\n",
        "   2.67200513e-03   4.28850611e-03   3.70406035e-03   2.38710939e-03\n",
        "   1.16195984e-03   3.35531102e-04  -8.81593360e-05  -2.27689764e-04\n",
        "  -2.14594653e-04  -1.45954895e-04  -7.61875771e-05]\n",
        "problem 2  [-0.63868602 -0.68902318 -0.73692391 -0.78322357 -0.82849444 -0.87315827\n",
        " -0.91754539 -0.96192858 -1.00654398 -1.05160488 -1.0973114  -1.14385783\n",
        " -1.19143846 -1.24025273 -1.29051002 -1.34243449 -1.3962702  -1.4522869\n",
        " -1.51078671]\n",
        "problem 3  [ 0.76159416  0.86003983  0.93552301  0.99344441  1.03852854  1.07446984\n",
        "  1.10397897  1.12897093  1.15076875  1.1702752   1.18810295  1.20466777\n",
        "  1.2202531   1.23505392  1.24920618  1.26280637  1.27592458  1.28861304\n",
        "  1.30091187]\n"
       ]
      }
     ],
     "prompt_number": 36
    },
    {
     "cell_type": "code",
     "collapsed": false,
     "input": [],
     "language": "python",
     "metadata": {},
     "outputs": [
      {
       "metadata": {},
       "output_type": "pyout",
       "prompt_number": 116,
       "text": [
        "array([-0.63868602, -0.68902318, -0.73692391, -0.78322357, -0.82849444,\n",
        "       -0.87315827, -0.91754539, -0.96192858, -1.00654398, -1.05160488,\n",
        "       -1.0973114 , -1.14385783, -1.19143846, -1.24025273, -1.29051002,\n",
        "       -1.34243449, -1.3962702 , -1.4522869 , -1.51078671])"
       ]
      }
     ],
     "prompt_number": 116
    },
    {
     "cell_type": "code",
     "collapsed": false,
     "input": [],
     "language": "python",
     "metadata": {},
     "outputs": [
      {
       "metadata": {},
       "output_type": "pyout",
       "prompt_number": 121,
       "text": [
        "array([ 0.76159416,  0.86003983,  0.93552301,  0.99344441,  1.03852854,\n",
        "        1.07446984,  1.10397897,  1.12897093,  1.15076875,  1.1702752 ,\n",
        "        1.18810295,  1.20466777,  1.2202531 ,  1.23505392,  1.24920618,\n",
        "        1.26280637,  1.27592458,  1.28861304,  1.30091187])"
       ]
      }
     ],
     "prompt_number": 121
    },
    {
     "cell_type": "markdown",
     "metadata": {},
     "source": [
      "## Logic\n",
      "\n",
      "### If\n",
      "\n",
      "One of the most important things in any programming language is the ability to get the computer to make logical disicions. So what can a computer tell you? Well, it can answer simple questions, for example is $1=1$, or is $1=2$?"
     ]
    },
    {
     "cell_type": "code",
     "collapsed": false,
     "input": [
      "1==1, 1==2"
     ],
     "language": "python",
     "metadata": {},
     "outputs": [
      {
       "metadata": {},
       "output_type": "pyout",
       "prompt_number": 136,
       "text": [
        "(True, False)"
       ]
      }
     ],
     "prompt_number": 136
    },
    {
     "cell_type": "markdown",
     "metadata": {},
     "source": [
      "Now it has answered that burning question, what about this one is $1 > 3$ or is $1 < 3$?"
     ]
    },
    {
     "cell_type": "code",
     "collapsed": false,
     "input": [
      "1>3, 1<3"
     ],
     "language": "python",
     "metadata": {},
     "outputs": [
      {
       "metadata": {},
       "output_type": "pyout",
       "prompt_number": 135,
       "text": [
        "(False, True)"
       ]
      }
     ],
     "prompt_number": 135
    },
    {
     "cell_type": "markdown",
     "metadata": {},
     "source": [
      "There are only a few things you can ask a computer, one of the most important is the if statement. For example lets write a simple function that can respond in two ways. Firstly, if the function is passed the number 1 it will respond by saying 'hello', and if its passed anything else it will resond with a 'bye'."
     ]
    },
    {
     "cell_type": "code",
     "collapsed": false,
     "input": [
      "def greeting(x):\n",
      "    if x == 1:\n",
      "        return 'hello'\n",
      "    else:\n",
      "        return 'bye'\n",
      "\n",
      "greeting(1), greeting(0)"
     ],
     "language": "python",
     "metadata": {},
     "outputs": [
      {
       "metadata": {},
       "output_type": "pyout",
       "prompt_number": 129,
       "text": [
        "('hello', 'bye')"
       ]
      }
     ],
     "prompt_number": 129
    },
    {
     "cell_type": "markdown",
     "metadata": {},
     "source": [
      "Of course this is a very simple use of an if statement and you will be using it for much more complex code, but the general idea will be the same. You will ask the computer is $x = y$ or is $x \\neq y$. Another way of writing the code would be"
     ]
    },
    {
     "cell_type": "code",
     "collapsed": false,
     "input": [
      "def greeting(x):\n",
      "    lgc = (x==1)\n",
      "    if lgc:\n",
      "        return 'hello'\n",
      "    else:\n",
      "        return 'bye'\n",
      "\n",
      "greeting(1), greeting(0)"
     ],
     "language": "python",
     "metadata": {},
     "outputs": [
      {
       "metadata": {},
       "output_type": "pyout",
       "prompt_number": 138,
       "text": [
        "('hello', 'bye')"
       ]
      }
     ],
     "prompt_number": 138
    },
    {
     "cell_type": "markdown",
     "metadata": {},
     "source": [
      "here we asign the answer to the question is $x = 1$ to a variable called lgc. Now you can have a go at getting the computer to answer some questions. Find a true or false answer to the following\n",
      "\n",
      "1. is $\\sin(x) > \\cos(x)\\Big|_{x=0.5}$\n",
      "2. is $\\tan(x) > \\sin(x)\\Big|_{x=0.4}$\n",
      "3. is $\\tanh(x) > \\cot(x)\\Big|_{x=0.7}$"
     ]
    },
    {
     "cell_type": "code",
     "collapsed": false,
     "input": [],
     "language": "python",
     "metadata": {},
     "outputs": [],
     "prompt_number": null
    },
    {
     "cell_type": "markdown",
     "metadata": {},
     "source": [
      "### For loops\n",
      "\n",
      "Arguably the most important thing in all programming is the ability to make the computer continue to do something until come critia are met. The for loop lets you loop over a peice of code until it has achieved what you want. Lets do an example, say we want the computer to tell us the product of the first 10 even numbers. In mathematical notation this would look like\n",
      "\n",
      "$y = \\prod_{i=1}^{20} x_i$,  for $2\\big|x_i$\n",
      "\n",
      "or\n",
      "\n",
      "$y = 2 \\times 4  \\times 6  \\times 8  \\times 10  \\times 12  \\times 14 \\times 16 \\times 18 \\times 20$\n",
      "\n",
      "Now lets write a code that does this for us!"
     ]
    },
    {
     "cell_type": "code",
     "collapsed": false,
     "input": [
      "x=1\n",
      "for i in range(1,21):\n",
      "    if i % 2 == 0:\n",
      "        x=x*i\n",
      "    \n",
      "x == 2*4*6*8*10*12*14*16*18*20, x\n",
      "\n",
      "#problem 1\n",
      "product = 1\n",
      "odds = 0\n",
      "n = 0\n",
      "while odds < 20:\n",
      "    n = n + 1 \n",
      "    if n % 2 == 1:\n",
      "        odds = odds + 1\n",
      "        product = product * n\n",
      "print 'problem 1 ', product\n",
      "\n",
      "#problem 2\n",
      "product =1\n",
      "for n in range(50, 60):\n",
      "    product = product * n\n",
      "print 'problem 2 ', product\n",
      "\n",
      "#problem 3\n",
      "primes = []\n",
      "n = 1;\n",
      "while len(primes) < 20:\n",
      "    n = n + 1;\n",
      "    prime = True;\n",
      "    for div in range(2, n-1):\n",
      "        if n % div == 0:\n",
      "            prime = False;\n",
      "    if prime == True:\n",
      "        primes.append(n);\n",
      "product = 1;\n",
      "for m in primes:\n",
      "    product = product * m;\n",
      "print 'problem 3 ', product\n",
      "    "
     ],
     "language": "python",
     "metadata": {},
     "outputs": [
      {
       "output_type": "stream",
       "stream": "stdout",
       "text": [
        "problem 1  319830986772877770815625\n",
        "problem 2  227991539359584000\n",
        "problem 3  557940830126698960967415390\n"
       ]
      }
     ],
     "prompt_number": 86
    },
    {
     "cell_type": "markdown",
     "metadata": {},
     "source": [
      "There are a couple of things to note here, 1. we have to tell it to go up to 21, this is because loops run from 0 to x so the end must be one larger than you think, 2. we were able to use the range command to set up the loop, and 3. the % finds the remainder so if this is zero then one devides the other. Use a for loop to find the solutions to the following problems:\n",
      "\n",
      "1. find the product of the first 20 odd numbers,\n",
      "2. find the product of all the integers between $50 < x < 60$,\n",
      "3. find the product of the first 20 prime numbers."
     ]
    },
    {
     "cell_type": "markdown",
     "metadata": {},
     "source": [
      "### Exceptions\n",
      "\n",
      "Sometimes code just doesnt work for some reason. For example lets say im working on adding up all the numbers ina  bunch of different files and some of the files are missing. I dont want the code to not work just because some of the files are missing. I want it to add up the ones that do exsist and tell me which ones are missing! Lets try to do this with some fake data"
     ]
    },
    {
     "cell_type": "code",
     "collapsed": false,
     "input": [
      "savetxt('a1.txt', [a1])\n",
      "savetxt('a2.txt', [a2])\n",
      "#savetxt('a3.txt', [a3])\n",
      "savetxt('a4.txt', [a4])\n",
      "savetxt('a5.txt', [a5])\n",
      "#savetxt('a6.txt', [a6])\n",
      "savetxt('a7.txt', [a7])\n",
      "\n",
      "sum=0\n",
      "for i in range(1,7):\n",
      "    var = 'a' + str(i) + '.txt'\n",
      "    try: \n",
      "        am = genfromtxt(var)\n",
      "        sum = sum+am\n",
      "    except:\n",
      "        print 'Error with file: ', var\n",
      "        pass\n",
      "    \n",
      "print sum"
     ],
     "language": "python",
     "metadata": {},
     "outputs": [
      {
       "output_type": "stream",
       "stream": "stdout",
       "text": [
        "Error with file:  a3.txt\n",
        "Error with file:  a6.txt\n",
        "596.0"
       ]
      }
     ],
     "prompt_number": 204
    },
    {
     "cell_type": "markdown",
     "metadata": {},
     "source": [
      "## Plotting\n",
      "\n",
      "Plotting is one of teh most important things we do in science, its the best way of showing data and comparing variables to determine if there might by connections between the dimentions you are interested in. First lets import the libraries we will be using to make our plots."
     ]
    },
    {
     "cell_type": "code",
     "collapsed": false,
     "input": [
      "%matplotlib inline\n",
      "%pylab\n",
      "from matplotlib import rcParams\n",
      "rcParams[\"savefig.dpi\"] = 100  # This makes all the plots a little bigger."
     ],
     "language": "python",
     "metadata": {},
     "outputs": [
      {
       "output_type": "stream",
       "stream": "stdout",
       "text": [
        "Using matplotlib backend: Qt4Agg\n",
        "Populating the interactive namespace from numpy and matplotlib\n"
       ]
      },
      {
       "output_type": "stream",
       "stream": "stderr",
       "text": [
        "WARNING: pylab import has clobbered these variables: ['f', 'product', 'random']\n",
        "`%matplotlib` prevents importing * from pylab and numpy\n"
       ]
      }
     ],
     "prompt_number": 50
    },
    {
     "cell_type": "markdown",
     "metadata": {},
     "source": [
      "### Histograms\n",
      "\n",
      "The easiest plot to create is always the one the with the fewest dimentions, a histogram has only one real dimention, the thing on the x axis. The y axis is just the number of counts for that bin. Lets try to make some histograms using python and the package matplotlib (here is the link to the matplotlib gallery, find the plot you want to make from these images and it will give you guide on how to make it! http://matplotlib.org/gallery.html). We will use the velocities we used before in the inputs and outputs section."
     ]
    },
    {
     "cell_type": "code",
     "collapsed": false,
     "input": [
      "velocities = genfromtxt('sorteddata.txt')\n",
      "plt.hist(velocities)"
     ],
     "language": "python",
     "metadata": {},
     "outputs": [
      {
       "metadata": {},
       "output_type": "pyout",
       "prompt_number": 52,
       "text": [
        "(array([   2.,   12.,   37.,  140.,  247.,  272.,  184.,   78.,   20.,    8.]),\n",
        " array([-3.60982027, -2.9129541 , -2.21608793, -1.51922175, -0.82235558,\n",
        "        -0.12548941,  0.57137676,  1.26824294,  1.96510911,  2.66197528,\n",
        "         3.35884145]),\n",
        " <a list of 10 Patch objects>)"
       ]
      }
     ],
     "prompt_number": 52
    },
    {
     "cell_type": "markdown",
     "metadata": {},
     "source": [
      "Now, this is an extremely simple histogram and is missing a bunch of stuff, so lets start adding it in!"
     ]
    },
    {
     "cell_type": "code",
     "collapsed": false,
     "input": [
      "plt.hist(velocities)\n",
      "# Add the x-axis label (remember units!)\n",
      "plt.xlabel('Velocity [km s$^{-1}$]')\n",
      "# Add the y-axis label\n",
      "plt.ylabel('N')\n",
      "# Add a title\n",
      "plt.title('Histogram of Velocites')"
     ],
     "language": "python",
     "metadata": {},
     "outputs": [
      {
       "metadata": {},
       "output_type": "pyout",
       "prompt_number": 53,
       "text": [
        "<matplotlib.text.Text at 0xad99e32c>"
       ]
      }
     ],
     "prompt_number": 53
    },
    {
     "cell_type": "markdown",
     "metadata": {},
     "source": [
      "Use the internet to find ways to change the following things about this plot:\n",
      "\n",
      "1. change bar colour,\n",
      "2. change number of bins,\n",
      "3. set the bins manually."
     ]
    },
    {
     "cell_type": "code",
     "collapsed": false,
     "input": [
      "plt.hist(velocities, color='red')\n",
      "# Add the x-axis label (remember units!)\n",
      "plt.xlabel('Velocity [km s$^{-1}$]')\n",
      "# Add the y-axis label\n",
      "plt.ylabel('N')\n",
      "# Add a title\n",
      "plt.title('Histogram of Velocites')"
     ],
     "language": "python",
     "metadata": {},
     "outputs": [
      {
       "metadata": {},
       "output_type": "pyout",
       "prompt_number": 59,
       "text": [
        "<matplotlib.text.Text at 0xacc5ce4c>"
       ]
      }
     ],
     "prompt_number": 59
    },
    {
     "cell_type": "markdown",
     "metadata": {},
     "source": [
      "Ok, great! Now we have a plot with all the bells and whistles. However, this is still a very basic plot. Lets move on to more interesting plots!\n",
      "\n",
      "### Scatter plots\n",
      "\n",
      "The next type of plots that will come in handy are scatter plots. Here you are measuring two dimentions, a dependant varibable on the y-axis and an independant variable on the x-axis. Lets first input the second dimention, in this case its the radius."
     ]
    },
    {
     "cell_type": "code",
     "collapsed": true,
     "input": [
      "radius = genfromtxt('radius.txt')"
     ],
     "language": "python",
     "metadata": {},
     "outputs": [],
     "prompt_number": 61
    },
    {
     "cell_type": "markdown",
     "metadata": {},
     "source": [
      "Now lets make a scatter plot of velocity versus radius."
     ]
    },
    {
     "cell_type": "code",
     "collapsed": false,
     "input": [
      "plt.scatter(radius, velocities)\n",
      "plt.xlabel('Radius [kpc]')\n",
      "plt.ylabel('Velocity [km s$^{-1}$]')\n",
      "plt.title('Scatter plot of velocity versus radius')"
     ],
     "language": "python",
     "metadata": {},
     "outputs": [
      {
       "metadata": {},
       "output_type": "pyout",
       "prompt_number": 72,
       "text": [
        "<matplotlib.text.Text at 0xabd72e0c>"
       ]
      }
     ],
     "prompt_number": 72
    },
    {
     "cell_type": "markdown",
     "metadata": {},
     "source": [
      "Use the internet to find ways to make the following changes to the plot:\n",
      "\n",
      "1. change the plots to crosses,\n",
      "2. change the transparency of the points,\n",
      "3. add a point for the mean."
     ]
    },
    {
     "cell_type": "code",
     "collapsed": false,
     "input": [
      "plt.scatter(radius, velocities, marker='x', alpha=0.5)\n",
      "#plt.plot(mean(radius), mean(velocities), color='red');\n",
      "plt.xlabel('Radius [kpc]')\n",
      "plt.ylabel('Velocity [km s$^{-1}$]')\n",
      "plt.title('Scatter plot of velocity versus radius')"
     ],
     "language": "python",
     "metadata": {},
     "outputs": [
      {
       "metadata": {},
       "output_type": "pyout",
       "prompt_number": 73,
       "text": [
        "<matplotlib.text.Text at 0xab92408c>"
       ]
      }
     ],
     "prompt_number": 73
    },
    {
     "cell_type": "markdown",
     "metadata": {},
     "source": [
      "### Line plots\n",
      "\n",
      "Annother great way of showing relationships --- especially if you have a good idea of what the relationship should look like --- is the use of a line plot. For an example lets take the fake velocities and radii used previously. Now in order to produce a line plot that makes sence we should first sort the data. To do this we choose to sort the data by their radius. This should give us a line from low radius to high. To sort the data we first have to combine the two arryas intoa  single array to use np.argsort."
     ]
    },
    {
     "cell_type": "code",
     "collapsed": true,
     "input": [
      "xy = zip(radius,velocities)\n",
      "xy = np.array(xy)"
     ],
     "language": "python",
     "metadata": {},
     "outputs": [],
     "prompt_number": 76
    },
    {
     "cell_type": "markdown",
     "metadata": {},
     "source": [
      "This gives us one array xy which contains all the data, the first column contains the radii and the second column contains the velocities. Now we need to sort this array with respect to the first column."
     ]
    },
    {
     "cell_type": "code",
     "collapsed": true,
     "input": [
      "xy = xy[xy[:,0].argsort()]\n",
      "x = xy[:,0]\n",
      "y = xy[:,1]"
     ],
     "language": "python",
     "metadata": {},
     "outputs": [],
     "prompt_number": 77
    },
    {
     "cell_type": "markdown",
     "metadata": {},
     "source": [
      "Now we have two arrays x and y, both sorted with respect to the radius. Now we can plot these using the line plot command plt.plot"
     ]
    },
    {
     "cell_type": "code",
     "collapsed": false,
     "input": [
      "plt.plot(x,y)"
     ],
     "language": "python",
     "metadata": {},
     "outputs": [
      {
       "metadata": {},
       "output_type": "pyout",
       "prompt_number": 78,
       "text": [
        "[<matplotlib.lines.Line2D at 0xab46ae4c>]"
       ]
      }
     ],
     "prompt_number": 78
    },
    {
     "cell_type": "markdown",
     "metadata": {},
     "source": [
      "As you can see there is a problem, this is due to the way in which i generated the fake data. In order to fix this i will sort the velocity array with respect to its self. DO NOT DO THIS FOR REAL DATA."
     ]
    },
    {
     "cell_type": "code",
     "collapsed": false,
     "input": [
      "y = y[y.argsort()]\n",
      "plt.plot(x,y)\n",
      "#problem 1\n",
      "plt.xlabel('radius')\n",
      "plt.ylabel('velocity')\n",
      "plt.title('radius/velocity graph')\n",
      "#problem 2\n",
      "plt.polynomial(np.polyfit(x, y, 0))"
     ],
     "language": "python",
     "metadata": {},
     "outputs": [
      {
       "ename": "AttributeError",
       "evalue": "'module' object has no attribute 'polynomial'",
       "output_type": "pyerr",
       "traceback": [
        "\u001b[1;31m---------------------------------------------------------------------------\u001b[0m\n\u001b[1;31mAttributeError\u001b[0m                            Traceback (most recent call last)",
        "\u001b[1;32m<ipython-input-85-e0f26ff6e2b9>\u001b[0m in \u001b[0;36m<module>\u001b[1;34m()\u001b[0m\n\u001b[0;32m      6\u001b[0m \u001b[0mplt\u001b[0m\u001b[1;33m.\u001b[0m\u001b[0mtitle\u001b[0m\u001b[1;33m(\u001b[0m\u001b[1;34m'radius/velocity graph'\u001b[0m\u001b[1;33m)\u001b[0m\u001b[1;33m\u001b[0m\u001b[0m\n\u001b[0;32m      7\u001b[0m \u001b[1;31m#problem 2\u001b[0m\u001b[1;33m\u001b[0m\u001b[1;33m\u001b[0m\u001b[0m\n\u001b[1;32m----> 8\u001b[1;33m \u001b[0mplt\u001b[0m\u001b[1;33m.\u001b[0m\u001b[0mpolynomial\u001b[0m\u001b[1;33m(\u001b[0m\u001b[0mnp\u001b[0m\u001b[1;33m.\u001b[0m\u001b[0mpolyfit\u001b[0m\u001b[1;33m(\u001b[0m\u001b[0mx\u001b[0m\u001b[1;33m,\u001b[0m \u001b[0my\u001b[0m\u001b[1;33m,\u001b[0m \u001b[1;36m0\u001b[0m\u001b[1;33m)\u001b[0m\u001b[1;33m)\u001b[0m\u001b[1;33m\u001b[0m\u001b[0m\n\u001b[0m",
        "\u001b[1;31mAttributeError\u001b[0m: 'module' object has no attribute 'polynomial'"
       ]
      }
     ],
     "prompt_number": 85
    },
    {
     "cell_type": "markdown",
     "metadata": {},
     "source": [
      "Here are a few things for you to try to do:\n",
      "\n",
      "1. Add labels to the axes and a title.\n",
      "2. Caculate a line that fits this data. (hint: numpy.polyfit)\n",
      "3. Add the line to the plot and use a legend."
     ]
    },
    {
     "cell_type": "code",
     "collapsed": false,
     "input": [],
     "language": "python",
     "metadata": {},
     "outputs": [
      {
       "metadata": {},
       "output_type": "pyout",
       "prompt_number": 80,
       "text": [
        "<matplotlib.text.Text at 0xab0d9d0c>"
       ]
      }
     ],
     "prompt_number": 80
    },
    {
     "cell_type": "code",
     "collapsed": false,
     "input": [],
     "language": "python",
     "metadata": {},
     "outputs": [],
     "prompt_number": null
    },
    {
     "cell_type": "code",
     "collapsed": false,
     "input": [],
     "language": "python",
     "metadata": {},
     "outputs": [],
     "prompt_number": null
    },
    {
     "cell_type": "markdown",
     "metadata": {},
     "source": [
      "### 2D Histograms\n",
      "\n",
      "Now we can move onto a more complex, but great way of showing data. A two dimentional histogram shows the distribution of data with respect to two parameter spaces. In this case we will use the same example, the radius and velocity parameter space.."
     ]
    },
    {
     "cell_type": "code",
     "collapsed": false,
     "input": [
      "plt.hist2d(radius, velocities)"
     ],
     "language": "python",
     "metadata": {},
     "outputs": [
      {
       "metadata": {},
       "output_type": "pyout",
       "prompt_number": 73,
       "text": [
        "(array([[  0.,   0.,   2.,   0.,   2.,   1.,   2.,   0.,   0.,   0.],\n",
        "        [  0.,   0.,   0.,   3.,   9.,   1.,   6.,   1.,   0.,   1.],\n",
        "        [  0.,   2.,   3.,   7.,  22.,  12.,  14.,   2.,   2.,   0.],\n",
        "        [  2.,   2.,   3.,  16.,  35.,  47.,  36.,  10.,   1.,   1.],\n",
        "        [  0.,   1.,  10.,  45.,  59.,  73.,  41.,  29.,   6.,   2.],\n",
        "        [  0.,   3.,  11.,  37.,  55.,  66.,  44.,  15.,   5.,   3.],\n",
        "        [  0.,   4.,   4.,  17.,  44.,  46.,  24.,  10.,   3.,   0.],\n",
        "        [  0.,   0.,   4.,   9.,  14.,  14.,  14.,   7.,   2.,   0.],\n",
        "        [  0.,   0.,   0.,   5.,   7.,  11.,   2.,   1.,   1.,   1.],\n",
        "        [  0.,   0.,   0.,   1.,   0.,   1.,   1.,   3.,   0.,   0.]]),\n",
        " array([-6.54667866, -5.25384676, -3.96101485, -2.66818294, -1.37535104,\n",
        "        -0.08251913,  1.21031277,  2.50314468,  3.79597659,  5.08880849,\n",
        "         6.3816404 ]),\n",
        " array([-3.60982027, -2.9129541 , -2.21608793, -1.51922175, -0.82235558,\n",
        "        -0.12548941,  0.57137676,  1.26824294,  1.96510911,  2.66197528,\n",
        "         3.35884145]),\n",
        " <matplotlib.image.AxesImage at 0x11933ff50>)"
       ]
      },
      {
       "metadata": {},
       "output_type": "display_data",
       "png": "[encoded data removed]",
       "text": [
        "<matplotlib.figure.Figure at 0x118cffc10>"
       ]
      }
     ],
     "prompt_number": 73
    },
    {
     "cell_type": "markdown",
     "metadata": {},
     "source": [
      "Now try to do the following:\n",
      "\n",
      "1. Label the axes and give it a title.\n",
      "2. Change the number of bins to something more reasonable.\n",
      "3. Add a labelled colour bar."
     ]
    },
    {
     "cell_type": "code",
     "collapsed": false,
     "input": [],
     "language": "python",
     "metadata": {},
     "outputs": [],
     "prompt_number": null
    },
    {
     "cell_type": "markdown",
     "metadata": {},
     "source": [
      "### Subplots\n",
      "\n",
      "It is often conveniant to plot two things next to eachother in order to show a comparison. This is where subplots come in handy. For this example is will make a simple 2 by 2 grid of plots from the plots we have already created. The plot will be organized as follows:\n",
      "\n",
      "Histogram, Scatter\n",
      "\n",
      "Lineplot, 2D histogram"
     ]
    },
    {
     "cell_type": "code",
     "collapsed": false,
     "input": [
      "f, ((ax1, ax2), (ax3, ax4)) = plt.subplots(2, 2)\n",
      "ax1.hist(velocities)\n",
      "ax2.scatter(radius, velocities)\n",
      "ax3.plot(x,y)\n",
      "ax4.hist2d(radius,velocities)"
     ],
     "language": "python",
     "metadata": {},
     "outputs": [
      {
       "metadata": {},
       "output_type": "pyout",
       "prompt_number": 82,
       "text": [
        "(array([[  0.,   0.,   2.,   0.,   2.,   1.,   2.,   0.,   0.,   0.],\n",
        "        [  0.,   0.,   0.,   3.,   9.,   1.,   6.,   1.,   0.,   1.],\n",
        "        [  0.,   2.,   3.,   7.,  22.,  12.,  14.,   2.,   2.,   0.],\n",
        "        [  2.,   2.,   3.,  16.,  35.,  47.,  36.,  10.,   1.,   1.],\n",
        "        [  0.,   1.,  10.,  45.,  59.,  73.,  41.,  29.,   6.,   2.],\n",
        "        [  0.,   3.,  11.,  37.,  55.,  66.,  44.,  15.,   5.,   3.],\n",
        "        [  0.,   4.,   4.,  17.,  44.,  46.,  24.,  10.,   3.,   0.],\n",
        "        [  0.,   0.,   4.,   9.,  14.,  14.,  14.,   7.,   2.,   0.],\n",
        "        [  0.,   0.,   0.,   5.,   7.,  11.,   2.,   1.,   1.,   1.],\n",
        "        [  0.,   0.,   0.,   1.,   0.,   1.,   1.,   3.,   0.,   0.]]),\n",
        " array([-6.54667866, -5.25384676, -3.96101485, -2.66818294, -1.37535104,\n",
        "        -0.08251913,  1.21031277,  2.50314468,  3.79597659,  5.08880849,\n",
        "         6.3816404 ]),\n",
        " array([-3.60982027, -2.9129541 , -2.21608793, -1.51922175, -0.82235558,\n",
        "        -0.12548941,  0.57137676,  1.26824294,  1.96510911,  2.66197528,\n",
        "         3.35884145]),\n",
        " <matplotlib.image.AxesImage at 0x11a2ee990>)"
       ]
      },
      {
       "metadata": {},
       "output_type": "display_data",
       "png": "[encoded data removed]",
       "text": [
        "<matplotlib.figure.Figure at 0x1198c5d10>"
       ]
      }
     ],
     "prompt_number": 82
    },
    {
     "cell_type": "markdown",
     "metadata": {},
     "source": [
      "Your task:\n",
      "\n",
      "1. Go back through your solutions to the previous questions in this sections and add all your updated plots to this figure.\n",
      "2. Change the orientation of the histogram to be horizontal and make all the plots share the same x axis values.\n",
      "\n",
      "Note: adding a colour bar to a subplot can be tricky, you can look at the answers if you need to.\n",
      "\n",
      "Tip: using plt.tight_layout() at the end can solve alot of formatting problems for you."
     ]
    },
    {
     "cell_type": "code",
     "collapsed": false,
     "input": [],
     "language": "python",
     "metadata": {},
     "outputs": [],
     "prompt_number": null
    },
    {
     "cell_type": "markdown",
     "metadata": {},
     "source": [
      "## Astrophysics\n",
      "\n",
      "### Angular Momentum\n",
      "\n",
      "So now is the time to do some thinking about physics and astronomy. The first thing we are going to look at is angular momentum. The Angular momentum of a system can be thought of in two ways. For a continuous system, we can use the integral\n",
      "\n",
      "$\\mathbf{L} \\equiv \\int \\boldsymbol{\\tau} dt = I \\boldsymbol{\\omega} + \\mathrm{constant}$\n",
      "\n",
      "in words, the integral of torque with respect to time is equal to the product of the moment of inertia and the angular speed (which is also equivilent to the angular momentum). This way of thinging is great for a purely mathematical approach to a problem, however, when dealing with discrete systems it is not necessary. For a descrete system we can simply say\n",
      "\n",
      "$\\mathbf{L} = \\sum_i (\\mathbf{R}_i \\times m_i \\mathbf{V}_i)$\n",
      "\n",
      "in words, the angular momentum (L) is equal to the sum of all the vector cross product of the radius with the velocity times by the mass, for all particles. This way of thinking about angular mometnum is much easier. If we take the angular momentum of a single particle\n",
      "\n",
      "$\\mathbf{L} = \\mathbf{R} \\times m \\mathbf{V}$\n",
      "\n",
      "we can see that for a discrete system the total angular momentum is simply the sum of the of the angular momentum for each particle. For futher reading the wikipedia page on angular momentum isn't half bad (https://en.wikipedia.org/wiki/Angular_momentum) but I would recommend the book Classical Mechanics by Herbert Goldstein (pdf versions can be found online but you didn't hear it from me), especially if you are interested in physics (which i assume you are). But for the scope of this humble notebook we will just stop here for angular momentum, as this should be all you will need to know."
     ]
    },
    {
     "cell_type": "markdown",
     "metadata": {},
     "source": [
      "### Simulations\n",
      "\n",
      "Simulating galaxies is a very vast subject, but I will try to teach you what you will need to know. Firstly, in a simulation we don't have stars, we have star particles. These star particles can have masses ranging from ten times, to a few thousand times that of our sun. So these star particles are massive. Similarly, if a simulation contains gas the gas particles will also be massive, as will the dark matter particles. Gas and stars I am sure you are familiar with, but dark matter is a little more abstract. For reading I would suggest the wikipedia page, it will give you a general idea, but I would be hesitant to say its the perfect resource (https://en.wikipedia.org/wiki/Dark_matter). Generally simulations are just a small box containing one, or a few galaxies. However, cosmological simulations are large boxes containing many galaxies, or, sometimes, many clusters of galaxies. Cosmological simulations often start from a map of the cosmic microwave background radiation, and use this as an initial density distribution (for some extra reading you can look up the Illustris project https://en.wikipedia.org/wiki/Illustris_project).\n",
      "\n",
      "#### Simulation files\n",
      "\n",
      "This is a very quick sections that will try to explain simulation files. The files that you will be using will be 'tipsy' files, the name comes from a program called tipsy that is use to visualize simulations. Now, the files list information about all the particles in the simulation, starting with the dark matter, then the gas, then finally the stars. A normal tipsy file contains the masses, velocities, positions, potentials, metallicity, time of formation, and possibly some other things. "
     ]
    },
    {
     "cell_type": "markdown",
     "metadata": {},
     "source": [
      "### Briggs Figures\n",
      "\n",
      "Briggs figures are a great way of showing the orientation of angular momentum of two or more different components. In astrophysics for example it may be interesting to see how the angular momentum of planets align with the orientation of the matter they formed form. For this comparison we need to have a direction for the angular momentum. If we have a system in rotation the direction of the angular momentum vector is perpendicular to the plane of rotation and it's direction is given by the right-hand-rule. So if you take a plate and spin it on a stick (which some people find enjoyable) the stick would point in the direction of the plate if the plate was spinning clockwise as seen from overhead. Now assume we have two plates spinning on two different sticks with different orientations. Then we have two ways to determine the difference in orientation:\n",
      "\n",
      "1. we can measure the angle between the two planes of rotation,\n",
      "2. we can measure the angle between the two sticks.\n",
      "\n",
      "The first option seems easy enough, but lets assume its not really a plate but a ball, then this plane of rotation becomes harder to physically justify. Therefore, to keep things easy we just measure the angle between the two sticks. This makes things much eaiser because we dont have to worry about a 2 dimentional plane, just a single dimentional vector.\n",
      "\n",
      "The first use of a Briggs figure was by Briggs in his 1990 paper on galactic warps (http://adsabs.harvard.edu/abs/1990ApJ...352...15B). But it has also been used by Victor in a number of papers for example his 2013 paper about the orientation of the Milky Way (http://adsabs.harvard.edu/abs/2013MNRAS.434.2971D). \n",
      "\n",
      "Things to do:\n",
      "\n",
      "Think about how you would use python to make a Briggs figure."
     ]
    },
    {
     "cell_type": "markdown",
     "metadata": {},
     "source": [
      "### Star formation history\n",
      "\n",
      "Let's say we have a galaxy simulation. We know when the stars in the simulation formed and where they formed. It could be interesting to know when, and where in the galaxy stars have formed. This is where a star formation history can be of great use. "
     ]
    },
    {
     "cell_type": "markdown",
     "metadata": {},
     "source": [
      "### General Pynbody\n",
      "\n",
      "#### Some files to play with\n",
      "I have uploaded a couple of files to dropbox for you to have a play with. One is a disc galaxy and one is an elliptical. To download the tar file use the following link: https://www.dropbox.com/s/yw9zsz4d0v0chn1/testdata.tar?dl=0\n",
      "\n",
      "move the file to the directory this notebook is located, then in the command line use the following command:\n",
      "\n",
      "tar -xvf testdata.tar ../\n",
      "\n",
      "Pynbody is a python package for analyzing astrophysics simulations. This package does nearly everything you could ever be interested in when it comes to looking at simulations of galaxies and the cosmos. I was thinking about writing a large section here on how to use it and what it can do. However, i think as i have a notebook from one of the creators it would be much better to give you that (http://nbviewer.ipython.org/gist/rokroskar/5760874). Rok Roskar is one of the creators of pynbody and in this notebook he demonstrates the power of pynbody and some of the useful codes it includes. This is not a full feature list however. There are allot more things that pynbody does that he doesn't go into. I would recommend reading some of the posts on the pynbody git hub if you want more information, or just questioning the commands in python (https://github.com/pynbody/pynbody).\n",
      "\n",
      "### Pynbody Images\n",
      "\n",
      "For a number of reason it's often good to be able to visually inspect a simulation in order to see how the system looks. This could be to look for a warp, a bar, or even just classify the galaxy. In this section we will look at some easy ways to make images of simulations in different parameter space. \n",
      "\n",
      "#### Density slice\n",
      "\n",
      "This first plot is extremely useful as it gives you a simple look at how the mass of the galaxy is distributed on the galactic plane. This is allot more useful for disc galaxies, however, can also be useful for ellipticals."
     ]
    },
    {
     "cell_type": "code",
     "collapsed": true,
     "input": [
      "import pynbody\n",
      "import pynbody.plot.sph as sph\n",
      "import matplotlib.pylab as plt"
     ],
     "language": "python",
     "metadata": {},
     "outputs": [
      {
       "ename": "ImportError",
       "evalue": "No module named pynbody",
       "output_type": "pyerr",
       "traceback": [
        "\u001b[1;31m---------------------------------------------------------------------------\u001b[0m\n\u001b[1;31mImportError\u001b[0m                               Traceback (most recent call last)",
        "\u001b[1;32m<ipython-input-90-cd3ca7138c67>\u001b[0m in \u001b[0;36m<module>\u001b[1;34m()\u001b[0m\n\u001b[1;32m----> 1\u001b[1;33m \u001b[1;32mimport\u001b[0m \u001b[0mpynbody\u001b[0m\u001b[1;33m\u001b[0m\u001b[0m\n\u001b[0m\u001b[0;32m      2\u001b[0m \u001b[1;32mimport\u001b[0m \u001b[0mpynbody\u001b[0m\u001b[1;33m.\u001b[0m\u001b[0mplot\u001b[0m\u001b[1;33m.\u001b[0m\u001b[0msph\u001b[0m \u001b[1;32mas\u001b[0m \u001b[0msph\u001b[0m\u001b[1;33m\u001b[0m\u001b[0m\n\u001b[0;32m      3\u001b[0m \u001b[1;32mimport\u001b[0m \u001b[0mmatplotlib\u001b[0m\u001b[1;33m.\u001b[0m\u001b[0mpylab\u001b[0m \u001b[1;32mas\u001b[0m \u001b[0mplt\u001b[0m\u001b[1;33m\u001b[0m\u001b[0m\n",
        "\u001b[1;31mImportError\u001b[0m: No module named pynbody"
       ]
      }
     ],
     "prompt_number": 90
    },
    {
     "cell_type": "markdown",
     "metadata": {
      "collapsed": true
     },
     "source": [
      "load the snapshot and set to physical units"
     ]
    },
    {
     "cell_type": "code",
     "collapsed": false,
     "input": [
      "s = pynbody.load('../testdata/g1.77e12.00784')\n",
      "s.physical_units()"
     ],
     "language": "python",
     "metadata": {},
     "outputs": [
      {
       "output_type": "stream",
       "stream": "stderr",
       "text": [
        "INFO:pynbody.snapshot.tipsy:Loading ../testdata/g1.77e12.00784\n",
        "INFO:pynbody:Loading using backend <class 'pynbody.snapshot.tipsy.TipsySnap'>\n",
        "INFO:pynbody.snapshot.tipsy:Loading ../testdata/g1.77e12.00784"
       ]
      }
     ],
     "prompt_number": 4
    },
    {
     "cell_type": "markdown",
     "metadata": {},
     "source": [
      "set up the halos"
     ]
    },
    {
     "cell_type": "code",
     "collapsed": false,
     "input": [
      "h = s.halos()"
     ],
     "language": "python",
     "metadata": {},
     "outputs": [
      {
       "output_type": "stream",
       "stream": "stderr",
       "text": [
        "INFO:pynbody.halo:AHFCatalogue loading particles\n",
        "INFO:pynbody.halo:AHFCatalogue loading halos\n",
        "INFO:pynbody.halo:AHFCatalogue loading substructure\n",
        "INFO:pynbody.halo:AHFCatalogue loaded"
       ]
      }
     ],
     "prompt_number": 5
    },
    {
     "cell_type": "markdown",
     "metadata": {},
     "source": [
      "center on the largest halo and align the disk"
     ]
    },
    {
     "cell_type": "code",
     "collapsed": false,
     "input": [
      "pynbody.analysis.angmom.faceon(h[1])"
     ],
     "language": "python",
     "metadata": {},
     "outputs": [
      {
       "output_type": "stream",
       "stream": "stderr",
       "text": [
        "INFO:pynbody.analysis.angmom:Finding halo center...\n",
        "INFO:pynbody.snapshot.tipsy:Loading data from main file ../testdata/g1.77e12.00784\n",
        "INFO:pynbody.snapshot:Converting phi units from 4.30e+06 km**2 a**-1 s**-2 to km**2 s**-2\n",
        "INFO:pynbody.snapshot:Converting pos units from 8.94e+04 kpc a to kpc\n",
        "INFO:pynbody.snapshot:Converting eps units from 8.94e+04 kpc a to kpc\n",
        "INFO:pynbody.snapshot:Converting vel units from 2.07e+03 km a s**-1 to km s**-1\n",
        "INFO:pynbody.snapshot:Converting mass units from 8.93e+16 Msol to Msol\n",
        "INFO:pynbody.snapshot:Converting rho units from 1.25e+02 Msol kpc**-3 a**-3 to Msol kpc**-3\n",
        "INFO:pynbody.snapshot:Converting tform units from 4.31e+01 s kpc km**-1 to kpc s km**-1\n",
        "INFO:pynbody.analysis._com:Initial rough COM=[ 9298.37576027  -204.79985514  4434.20313064]\n",
        "INFO:pynbody.analysis.halo:Final SSC=[ 9299.15165988  -203.74747412  4433.93302077]\n",
        "INFO:pynbody.analysis.angmom:... cen=[ 9299.15165988  -203.74747412  4433.93302077]\n",
        "INFO:pynbody.analysis.halo:Finding halo velocity center...\n",
        "INFO:pynbody.analysis.angmom:Calculating angular momentum vector...\n",
        "INFO:pynbody.analysis.angmom:Transforming simulation...\n",
        "INFO:pynbody.analysis.angmom:...done!"
       ]
      },
      {
       "metadata": {},
       "output_type": "pyout",
       "prompt_number": 6,
       "text": [
        "<pynbody.transformation.GenericRotation at 0x1129b7f50>"
       ]
      }
     ],
     "prompt_number": 6
    },
    {
     "cell_type": "markdown",
     "metadata": {},
     "source": [
      "create a simple slice of gas density"
     ]
    },
    {
     "cell_type": "code",
     "collapsed": false,
     "input": [
      "sph.image(h[1].g,qty=\"rho\",units=\"g cm^-3\",width=40,cmap=\"Greys\")"
     ],
     "language": "python",
     "metadata": {},
     "outputs": [
      {
       "output_type": "stream",
       "stream": "stderr",
       "text": [
        "INFO:pynbody.sph:Rendering image on 4 threads..."
       ]
      },
      {
       "metadata": {},
       "output_type": "pyout",
       "prompt_number": 9,
       "text": [
        "SimArray([[  1.39780384e-27,   1.39006526e-27,   1.38232678e-27, ...,\n",
        "          4.67119238e-28,   4.71227487e-28,   4.75335833e-28],\n",
        "       [  1.35945848e-27,   1.35215256e-27,   1.34484664e-27, ...,\n",
        "          4.60676135e-28,   4.65058204e-28,   4.69440272e-28],\n",
        "       [  1.32111322e-27,   1.31423996e-27,   1.30736670e-27, ...,\n",
        "          4.54233081e-28,   4.58888969e-28,   4.63544808e-28],\n",
        "       ..., \n",
        "       [  3.89521873e-27,   3.79688114e-27,   3.69854392e-27, ...,\n",
        "          1.23626117e-27,   1.29380295e-27,   1.35134473e-27],\n",
        "       [  3.85874663e-27,   3.75929738e-27,   3.65984775e-27, ...,\n",
        "          1.18928581e-27,   1.24323824e-27,   1.29719066e-27],\n",
        "       [  3.82227452e-27,   3.72171325e-27,   3.62115120e-27, ...,\n",
        "          1.14231046e-27,   1.19267343e-27,   1.24303650e-27]], dtype=float32, 'g cm**-3')"
       ]
      },
      {
       "metadata": {},
       "output_type": "display_data",
       "png": "[encoded data removed]",
       "text": [
        "<matplotlib.figure.Figure at 0x1129eff50>"
       ]
      }
     ],
     "prompt_number": 9
    },
    {
     "cell_type": "markdown",
     "metadata": {},
     "source": [
      "Stuff for you to try:\n",
      "\n",
      "1. Integrated denisty plot\n",
      "2. Temperature slice\n",
      "3. Stream plot of velocity\n",
      "4. Integrated density with velocity vectors over-plot\n",
      "\n",
      "Here is a great resource for constructing all these plots: https://pynbody.github.io/pynbody/tutorials/pictures.html"
     ]
    },
    {
     "cell_type": "code",
     "collapsed": true,
     "input": [],
     "language": "python",
     "metadata": {},
     "outputs": [],
     "prompt_number": null
    },
    {
     "cell_type": "markdown",
     "metadata": {},
     "source": []
    }
   ],
   "metadata": {}
  }
 ]
}